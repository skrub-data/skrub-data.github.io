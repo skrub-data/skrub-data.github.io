{
  "cells": [
    {
      "cell_type": "markdown",
      "metadata": {},
      "source": [
        "<div class='alert alert-warning'>\n\n# JupyterLite warning\n\nRunning the skrub examples in JupyterLite is experimental and you mayencounter some unexpected behavior.\n\nThe main difference is that imports will take a lot longer than usual, for example the first `import skrub` can take roughly 10-20s.\n\nIf you notice problems, feel free to open an [issue](https://github.com/skrub-data/skrub/issues/new/choose) about it.\n</div>"
      ]
    },
    {
      "cell_type": "code",
      "execution_count": null,
      "metadata": {
        "collapsed": false
      },
      "outputs": [],
      "source": [
        "# JupyterLite-specific code\nimport micropip\nawait micropip.install('https://test-files.pythonhosted.org/packages/3c/03/e1598c7abe536e56834f568f61497ad075d966c4c8fb7d0ad004b81e7bfc/skrub-0.0.1.dev1-py3-none-any.whl')\nimport matplotlib\nimport pandas"
      ]
    },
    {
      "cell_type": "markdown",
      "metadata": {},
      "source": [
        "\n\n# Handling datetime features with the DatetimeEncoder\n\nIn this example, we illustrate how to better integrate datetime features\nin machine learning models with the |DatetimeEncoder|.\n\nThis encoder breaks down passed datetime features into relevant numerical\nfeatures, such as the month, the day of the week, the hour of the day, etc.\n\nIt is used by default in the |TableVectorizer|.\n\n\n.. |DatetimeEncoder| replace::\n    :class:`~skrub.DatetimeEncoder`\n\n.. |TableVectorizer| replace::\n    :class:`~skrub.TableVectorizer`\n\n.. |OneHotEncoder| replace::\n    :class:`~sklearn.preprocessing.OneHotEncoder`\n\n.. |TimeSeriesSplit| replace::\n    :class:`~sklearn.model_selection.TimeSeriesSplit`\n\n.. |ColumnTransformer| replace::\n    :class:`~sklearn.compose.ColumnTransformer`\n\n.. |make_column_transformer| replace::\n    :class:`~sklearn.compose.make_column_transformer`\n\n.. |HGBR| replace::\n    :class:`~sklearn.ensemble.HistGradientBoostingRegressor`\n\n.. |to_datetime| replace::\n    :func:`~skrub.to_datetime`\n"
      ]
    },
    {
      "cell_type": "markdown",
      "metadata": {},
      "source": [
        "## A problem with relevant datetime features\n\nWe will use a dataset of air quality measurements in different cities.\nIn this setting, we want to predict the NO2 air concentration, based\non the location, date and time of measurement.\n\n"
      ]
    },
    {
      "cell_type": "code",
      "execution_count": null,
      "metadata": {
        "collapsed": false
      },
      "outputs": [],
      "source": [
        "from pprint import pprint\nimport pandas as pd\n\ndata = pd.read_csv(\n    \"https://raw.githubusercontent.com/pandas-dev/pandas\"\n    \"/main/doc/data/air_quality_no2_long.csv\"\n).sort_values(\"date.utc\")\n# Extract our input data (X) and the target column (y)\ny = data[\"value\"]\nX = data[[\"city\", \"date.utc\"]]\n\nX"
      ]
    },
    {
      "cell_type": "markdown",
      "metadata": {},
      "source": [
        "We convert the dataframe date columns using |to_datetime|. Notice how\nwe don't need to specify the columns to convert.\n\n"
      ]
    },
    {
      "cell_type": "code",
      "execution_count": null,
      "metadata": {
        "collapsed": false
      },
      "outputs": [],
      "source": [
        "from skrub import to_datetime\n\nX = to_datetime(X)\nX.dtypes"
      ]
    },
    {
      "cell_type": "markdown",
      "metadata": {},
      "source": [
        "### Encoding the features\n\nWe will construct a |ColumnTransformer| in which we will encode\nthe city names with a |OneHotEncoder|, and the date\nwith a |DatetimeEncoder|.\n\nDuring the instantiation of the |DatetimeEncoder|, we specify that we want\nto extract the day of the week, and that we don't want to extract anything\nfiner than minutes. This is because we don't want to extract seconds and\nlower units, as they are probably unimportant.\n\n"
      ]
    },
    {
      "cell_type": "code",
      "execution_count": null,
      "metadata": {
        "collapsed": false
      },
      "outputs": [],
      "source": [
        "from sklearn.preprocessing import OneHotEncoder\nfrom sklearn.compose import make_column_transformer\nfrom skrub import DatetimeEncoder\n\nencoder = make_column_transformer(\n    (OneHotEncoder(handle_unknown=\"ignore\"), [\"city\"]),\n    (DatetimeEncoder(add_day_of_the_week=True, resolution=\"minute\"), [\"date.utc\"]),\n    remainder=\"drop\",\n)\n\nX_enc = encoder.fit_transform(X)\npprint(encoder.get_feature_names_out())"
      ]
    },
    {
      "cell_type": "markdown",
      "metadata": {},
      "source": [
        "We see that the encoder is working as expected: the ``\"date.utc\"`` column has\nbeen replaced by features extracting the month, day, hour, minute, day of the\nweek and total second since Epoch information.\n\n"
      ]
    },
    {
      "cell_type": "markdown",
      "metadata": {},
      "source": [
        "### One-liner with the |TableVectorizer|\n\nAs mentioned earlier, the |TableVectorizer| makes use of the\n|DatetimeEncoder| by default.\n\n"
      ]
    },
    {
      "cell_type": "code",
      "execution_count": null,
      "metadata": {
        "collapsed": false
      },
      "outputs": [],
      "source": [
        "from skrub import TableVectorizer\n\ntable_vec = TableVectorizer().fit(X)\npprint(table_vec.get_feature_names_out())"
      ]
    },
    {
      "cell_type": "markdown",
      "metadata": {},
      "source": [
        "If we want to customize the |DatetimeEncoder| inside the |TableVectorizer|,\nwe can replace its default parameter with a new, custom instance:\n\nHere, for example, we want it to extract the day of the week.\n\n"
      ]
    },
    {
      "cell_type": "code",
      "execution_count": null,
      "metadata": {
        "collapsed": false
      },
      "outputs": [],
      "source": [
        "table_vec = TableVectorizer(\n    datetime_transformer=DatetimeEncoder(add_day_of_the_week=True),\n).fit(X)\npprint(table_vec.get_feature_names_out())"
      ]
    },
    {
      "cell_type": "markdown",
      "metadata": {},
      "source": [
        ".. note:\n    For more information on how to customize the |TableVectorizer|, see\n    `sphx_glr_auto_examples_01_dirty_categories.py`.\n\nInspecting the |TableVectorizer| further, we can check that the\n|DatetimeEncoder| is used on the correct column(s).\n\n"
      ]
    },
    {
      "cell_type": "code",
      "execution_count": null,
      "metadata": {
        "collapsed": false
      },
      "outputs": [],
      "source": [
        "pprint(table_vec.transformers_)"
      ]
    },
    {
      "cell_type": "markdown",
      "metadata": {},
      "source": [
        "## Prediction with datetime features\n\nFor prediction tasks, we recommend using the |TableVectorizer| inside a\npipeline, combined with a model that can use the features extracted by the\n|DatetimeEncoder|.\nHere's we'll use a |HGBR| as our learner.\n\n.. note:\n   You might need to require the experimental feature for scikit-learn\n   versions earlier than 1.0 with:\n   ```py\n   from sklearn.experimental import enable_hist_gradient_boosting\n   ```\n\n"
      ]
    },
    {
      "cell_type": "code",
      "execution_count": null,
      "metadata": {
        "collapsed": false
      },
      "outputs": [],
      "source": [
        "from sklearn.ensemble import HistGradientBoostingRegressor\nfrom sklearn.pipeline import make_pipeline\n\npipeline = make_pipeline(table_vec, HistGradientBoostingRegressor())"
      ]
    },
    {
      "cell_type": "markdown",
      "metadata": {},
      "source": [
        "### Evaluating the model\n\nWhen using date and time features, we often care about predicting the future.\nIn this case, we have to be careful when evaluating our model, because\nthe standard settings of the cross-validation do not respect time ordering.\n\nInstead, we can use the |TimeSeriesSplit|,\nwhich ensures that the test set is always in the future.\n\n"
      ]
    },
    {
      "cell_type": "code",
      "execution_count": null,
      "metadata": {
        "collapsed": false
      },
      "outputs": [],
      "source": [
        "from sklearn.model_selection import TimeSeriesSplit, cross_val_score\n\ncross_val_score(\n    pipeline,\n    X,\n    y,\n    scoring=\"neg_mean_squared_error\",\n    cv=TimeSeriesSplit(n_splits=5),\n)"
      ]
    },
    {
      "cell_type": "markdown",
      "metadata": {},
      "source": [
        "### Plotting the prediction\n\nThe mean squared error is not obvious to interpret, so we compare\nvisually the prediction of our model with the actual values.\n\n"
      ]
    },
    {
      "cell_type": "code",
      "execution_count": null,
      "metadata": {
        "collapsed": false
      },
      "outputs": [],
      "source": [
        "import numpy as np\nimport matplotlib.pyplot as plt\n\nmask_train = X[\"date.utc\"] < \"2019-06-01\"\nX_train, X_test = X.loc[mask_train], X.loc[~mask_train]\ny_train, y_test = y.loc[mask_train], y.loc[~mask_train]\n\npipeline.fit(X_train, y_train)\ny_pred = pipeline.predict(X_test)\n\nall_cities = X_test[\"city\"].unique()\n\nfig, axes = plt.subplots(nrows=len(all_cities), ncols=1, figsize=(12, 9))\nfor ax, city in zip(axes, all_cities):\n    mask_prediction = X_test[\"city\"] == city\n    date_prediction = X_test.loc[mask_prediction][\"date.utc\"]\n    y_prediction = y_pred[mask_prediction]\n\n    mask_reference = X[\"city\"] == city\n    date_reference = X.loc[mask_reference][\"date.utc\"]\n    y_reference = y[mask_reference]\n\n    ax.plot(date_reference, y_reference, label=\"Actual\")\n    ax.plot(date_prediction, y_prediction, label=\"Predicted\")\n\n    ax.set(\n        ylabel=\"NO2\",\n        title=city,\n    )\n    ax.legend()\n\nfig.subplots_adjust(hspace=0.5)\nplt.show()"
      ]
    },
    {
      "cell_type": "markdown",
      "metadata": {},
      "source": [
        "Let's zoom on a few days:\n\n"
      ]
    },
    {
      "cell_type": "code",
      "execution_count": null,
      "metadata": {
        "collapsed": false
      },
      "outputs": [],
      "source": [
        "mask_zoom_reference = (X[\"date.utc\"] >= \"2019-06-01\") & (X[\"date.utc\"] < \"2019-06-04\")\nmask_zoom_prediction = (X_test[\"date.utc\"] >= \"2019-06-01\") & (\n    X_test[\"date.utc\"] < \"2019-06-04\"\n)\n\nall_cities = [\"Paris\", \"London\"]\nfig, axes = plt.subplots(nrows=len(all_cities), ncols=1, figsize=(12, 9))\nfor ax, city in zip(axes, all_cities):\n    mask_prediction = (X_test[\"city\"] == city) & mask_zoom_prediction\n    date_prediction = X_test.loc[mask_prediction][\"date.utc\"]\n    y_prediction = y_pred[mask_prediction]\n\n    mask_reference = (X[\"city\"] == city) & mask_zoom_reference\n    date_reference = X.loc[mask_reference][\"date.utc\"]\n    y_reference = y[mask_reference]\n\n    ax.plot(date_reference, y_reference, label=\"Actual\")\n    ax.plot(date_prediction, y_prediction, label=\"Predicted\")\n\n    ax.set(\n        ylabel=\"NO2\",\n        title=city,\n    )\n    ax.legend()\n\nplt.show()"
      ]
    },
    {
      "cell_type": "markdown",
      "metadata": {},
      "source": [
        "## Features importance\n\nUsing the |DatetimeEncoder| allows us to better understand how the date\nimpacts the NO2 concentration. To this aim, we can compute the\nimportance of the features created by the |DatetimeEncoder|, using the\n:func:`~sklearn.inspection.permutation_importance` function, which\nbasically shuffles a feature and sees how the model changes its prediction.\n\n"
      ]
    },
    {
      "cell_type": "code",
      "execution_count": null,
      "metadata": {
        "collapsed": false
      },
      "outputs": [],
      "source": [
        "from sklearn.inspection import permutation_importance\n\ntable_vec = TableVectorizer(\n    datetime_transformer=DatetimeEncoder(add_day_of_the_week=True),\n)\n\n# In this case, we don't use a pipeline, because we want to compute the\n# importance of the features created by the DatetimeEncoder\nX_transform = table_vec.fit_transform(X)\nfeature_names = table_vec.get_feature_names_out()\n\nmodel = HistGradientBoostingRegressor().fit(X_transform, y)\nresult = permutation_importance(model, X_transform, y, n_repeats=10, random_state=0)\n\nresult = pd.DataFrame(\n    dict(\n        feature_names=feature_names,\n        std=result.importances_std,\n        importances=result.importances_mean,\n    )\n).sort_values(\"importances\", ascending=False)\n\nresult.plot.barh(\n    y=\"importances\", x=\"feature_names\", title=\"Feature Importances\", figsize=(12, 9)\n)\nplt.tight_layout()"
      ]
    },
    {
      "cell_type": "markdown",
      "metadata": {},
      "source": [
        "We can see that the total seconds since Epoch and the hour of the day\nare the most important feature, which seems reasonable.\n\n## Conclusion\n\nIn this example, we saw how to use the |DatetimeEncoder| to create\nfeatures from a date column.\nAlso check out the |TableVectorizer|, which automatically recognizes\nand transforms datetime columns by default.\n\n"
      ]
    }
  ],
  "metadata": {
    "kernelspec": {
      "display_name": "Python 3",
      "language": "python",
      "name": "python3"
    },
    "language_info": {
      "codemirror_mode": {
        "name": "ipython",
        "version": 3
      },
      "file_extension": ".py",
      "mimetype": "text/x-python",
      "name": "python",
      "nbconvert_exporter": "python",
      "pygments_lexer": "ipython3",
      "version": "3.10.14"
    }
  },
  "nbformat": 4,
  "nbformat_minor": 0
}