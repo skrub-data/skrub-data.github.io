{
  "cells": [
    {
      "cell_type": "markdown",
      "metadata": {},
      "source": [
        "\n\n# Subsampling for faster development\n\nHere we show how to use :meth:`.skb.subsample() <DataOp.skb.subsample>` to speed-up\ninteractive construction of a skrub DataOps plan by computing previews on a subsampled\nversion of the original data.\n\n.. currentmodule:: skrub\n"
      ]
    },
    {
      "cell_type": "code",
      "execution_count": null,
      "metadata": {
        "collapsed": false
      },
      "outputs": [],
      "source": [
        "import skrub\nimport skrub.datasets\n\ndataset = skrub.datasets.fetch_employee_salaries().employee_salaries\n\nfull_data = skrub.var(\"data\", dataset)\nfull_data"
      ]
    },
    {
      "cell_type": "markdown",
      "metadata": {},
      "source": [
        "We are working with a dataset of over 9K rows. As we build up our plan,\nwe see previews of the intermediate results so we can check that it behaves\nas we expect. However, if some estimators are slow, fitting them and\ncomputing results on the whole data can slow us down.\n\n## Lightweight construction of the DataOps plan on a subsample\n\nWe can tell skrub to subsample the data when computing the previews, with\n:meth:`.skb.subsample() <DataOp.skb.subsample>`.\n\n"
      ]
    },
    {
      "cell_type": "code",
      "execution_count": null,
      "metadata": {
        "collapsed": false
      },
      "outputs": [],
      "source": [
        "data = full_data.skb.subsample(n=100)\ndata"
      ]
    },
    {
      "cell_type": "markdown",
      "metadata": {},
      "source": [
        "The rest of the plan will now use only 100 points for its previews.\n\n.. topic:: Subsampling only applies to previews by default\n\n   By default subsampling is applied *only for previews*: the results\n   shown when we display the plan, and the output of calling\n   :meth:`.skb.preview() <DataOp.skb.preview>`. For other methods such as\n   :meth:`.skb.get_learner() <DataOp.skb.get_learner>` or\n   :meth:`.skb.cross_validate() <DataOp.skb.cross_validate>`, *no subsampling is\n   done by default*. We can explicitly ask for it with ``keep_subsampling=True``\n   as we will see below. Even when ``keep_subsampling=True``, subsampling is\n   not applied to the ``predict`` method.\n\nTo continue building our plan, we now define X and y:\n\n"
      ]
    },
    {
      "cell_type": "code",
      "execution_count": null,
      "metadata": {
        "collapsed": false
      },
      "outputs": [],
      "source": [
        "employees = data.drop(\n    columns=\"current_annual_salary\",\n    errors=\"ignore\",\n).skb.mark_as_X()\n\nsalaries = data[\"current_annual_salary\"].skb.mark_as_y()"
      ]
    },
    {
      "cell_type": "markdown",
      "metadata": {},
      "source": [
        "And finally we apply a TableVectorizer then gradient boosting:\n\n"
      ]
    },
    {
      "cell_type": "code",
      "execution_count": null,
      "metadata": {
        "collapsed": false
      },
      "outputs": [],
      "source": [
        "from sklearn.ensemble import HistGradientBoostingRegressor\n\npredictions = employees.skb.apply(skrub.TableVectorizer()).skb.apply(\n    HistGradientBoostingRegressor(), y=salaries\n)"
      ]
    },
    {
      "cell_type": "markdown",
      "metadata": {},
      "source": [
        "All the lines above run very fast, including fitting the predictor above.\n\nWhen we display our ``predictions`` DataOp, we see that the preview is\ncomputed on a subsample: the result column has only 100 entries.\n\n"
      ]
    },
    {
      "cell_type": "code",
      "execution_count": null,
      "metadata": {
        "collapsed": false
      },
      "outputs": [],
      "source": [
        "predictions"
      ]
    },
    {
      "cell_type": "markdown",
      "metadata": {},
      "source": [
        "We can also turn on subsampling for other DataOps methods, such as\n:meth:`.skb.cross_validate() <DataOp.skb.cross_validate>`. Here we run the\ncross-validation on the small subsample of 100 rows we configured. With such\na small subsample the scores will be very low but this might help us quickly\ndetect errors in our cross-validation scheme.\n\n"
      ]
    },
    {
      "cell_type": "code",
      "execution_count": null,
      "metadata": {
        "collapsed": false
      },
      "outputs": [],
      "source": [
        "predictions.skb.cross_validate(keep_subsampling=True)"
      ]
    },
    {
      "cell_type": "markdown",
      "metadata": {},
      "source": [
        "## Evaluating the DataOps plan on the full data\nBy default, when we do not explicitly ask for ``keep_subsampling=True``, no\nsubsampling takes place.\n\nHere we run the cross-validation **on the full data**.\nNote the longer ``fit_time`` and much better ``test_score``.\n\n"
      ]
    },
    {
      "cell_type": "code",
      "execution_count": null,
      "metadata": {
        "collapsed": false
      },
      "outputs": [],
      "source": [
        "predictions.skb.cross_validate()"
      ]
    }
  ],
  "metadata": {
    "kernelspec": {
      "display_name": "Python 3",
      "language": "python",
      "name": "python3"
    },
    "language_info": {
      "codemirror_mode": {
        "name": "ipython",
        "version": 3
      },
      "file_extension": ".py",
      "mimetype": "text/x-python",
      "name": "python",
      "nbconvert_exporter": "python",
      "pygments_lexer": "ipython3",
      "version": "3.12.11"
    }
  },
  "nbformat": 4,
  "nbformat_minor": 0
}