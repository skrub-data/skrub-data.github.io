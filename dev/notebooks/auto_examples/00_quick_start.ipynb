{
  "cells": [
    {
      "cell_type": "markdown",
      "metadata": {},
      "source": [
        "\n# Quick start to skrub\n\nSkrub provides some tools to easily start analyzing and learning from tabular\ndata.\n"
      ]
    },
    {
      "cell_type": "markdown",
      "metadata": {},
      "source": [
        "## Downloading example datasets\n\nThe :obj:`~skrub.datasets` module allows us to download tabular datasets and\ndemonstrate skrub's features.\n\n"
      ]
    },
    {
      "cell_type": "code",
      "execution_count": null,
      "metadata": {
        "collapsed": false
      },
      "outputs": [],
      "source": [
        "from skrub.datasets import fetch_employee_salaries\n\ndataset = fetch_employee_salaries()\nemployees_df, salaries = dataset.X, dataset.y"
      ]
    },
    {
      "cell_type": "markdown",
      "metadata": {},
      "source": [
        "## Generating an interactive report for a dataframe\n\nTo quickly get an overview of a dataframe's contents, use :class:`~skrub.TableReport`.\n\n"
      ]
    },
    {
      "cell_type": "code",
      "execution_count": null,
      "metadata": {
        "collapsed": false
      },
      "outputs": [],
      "source": [
        "from skrub import TableReport\n\nTableReport(employees_df)"
      ]
    },
    {
      "cell_type": "markdown",
      "metadata": {},
      "source": [
        "You can use the interactive display above to explore the dataset visually.\n\n"
      ]
    },
    {
      "cell_type": "markdown",
      "metadata": {},
      "source": [
        "## Easily building a strong baseline for tabular machine learning\n\nThe :func:`~skrub.tabular_learner` function provides an easy way to build a\nsimple but reliable machine-learning model, working well on most tabular\ndata.\n\n"
      ]
    },
    {
      "cell_type": "code",
      "execution_count": null,
      "metadata": {
        "collapsed": false
      },
      "outputs": [],
      "source": [
        "from sklearn.model_selection import cross_validate\n\nfrom skrub import tabular_learner\n\nmodel = tabular_learner(\"regressor\")\nresults = cross_validate(model, employees_df, salaries)\nresults[\"test_score\"]"
      ]
    },
    {
      "cell_type": "markdown",
      "metadata": {},
      "source": [
        "To handle rich tabular data and feed it to a machine-learning model, the\npipeline returned by :func:`~skrub.tabular_learner` preprocesses and encodes\nstrings, categories and dates using the :class:`~skrub.TableVectorizer`.\nSee its documentation or `sphx_glr_auto_examples_01_encodings.py` for\nmore details.\n\n"
      ]
    }
  ],
  "metadata": {
    "kernelspec": {
      "display_name": "Python 3",
      "language": "python",
      "name": "python3"
    },
    "language_info": {
      "codemirror_mode": {
        "name": "ipython",
        "version": 3
      },
      "file_extension": ".py",
      "mimetype": "text/x-python",
      "name": "python",
      "nbconvert_exporter": "python",
      "pygments_lexer": "ipython3",
      "version": "3.12.4"
    }
  },
  "nbformat": 4,
  "nbformat_minor": 0
}