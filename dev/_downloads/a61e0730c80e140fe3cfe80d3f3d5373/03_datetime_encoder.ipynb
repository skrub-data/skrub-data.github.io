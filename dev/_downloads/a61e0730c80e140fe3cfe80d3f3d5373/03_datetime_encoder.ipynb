{
  "cells": [
    {
      "cell_type": "markdown",
      "metadata": {},
      "source": [
        "\n\n# Handling datetime features with the DatetimeEncoder\n\nIn this example, we illustrate how to better integrate datetime features\nin machine learning models with the |DatetimeEncoder|.\n\nThis encoder breaks down passed datetime features into relevant numerical\nfeatures, such as the month, the day of the week, the hour of the day, etc.\n\nIt is used by default in the |TableVectorizer|.\n\n\n.. |DatetimeEncoder| replace::\n    :class:`~skrub.DatetimeEncoder`\n\n.. |TableVectorizer| replace::\n    :class:`~skrub.TableVectorizer`\n\n.. |OneHotEncoder| replace::\n    :class:`~sklearn.preprocessing.OneHotEncoder`\n\n.. |TimeSeriesSplit| replace::\n    :class:`~sklearn.model_selection.TimeSeriesSplit`\n\n.. |ColumnTransformer| replace::\n    :class:`~sklearn.compose.ColumnTransformer`\n\n.. |make_column_transformer| replace::\n    :class:`~sklearn.compose.make_column_transformer`\n\n.. |HGBR| replace::\n    :class:`~sklearn.ensemble.HistGradientBoostingRegressor`\n\n.. |ToDatetime| replace::\n    :class:`~skrub.ToDatetime`\n"
      ]
    },
    {
      "cell_type": "markdown",
      "metadata": {},
      "source": [
        "## A problem with relevant datetime features\n\nWe will use a dataset of bike sharing demand in 2011 and 2012.\nIn this setting, we want to predict the number of bike rentals, based\non the date, time and weather conditions.\n\n"
      ]
    },
    {
      "cell_type": "code",
      "execution_count": null,
      "metadata": {
        "collapsed": false
      },
      "outputs": [],
      "source": [
        "from pprint import pprint\n\nimport pandas as pd\n\nfrom skrub import datasets\n\ndata = datasets.fetch_bike_sharing().bike_sharing\n\n# Extract our input data (X) and the target column (y)\ny = data[\"cnt\"]\nX = data[[\"date\", \"holiday\", \"temp\", \"hum\", \"windspeed\", \"weathersit\"]]\n\nX"
      ]
    },
    {
      "cell_type": "code",
      "execution_count": null,
      "metadata": {
        "collapsed": false
      },
      "outputs": [],
      "source": [
        "y"
      ]
    },
    {
      "cell_type": "markdown",
      "metadata": {},
      "source": [
        "We convert the dataframe's ``\"date\"`` column using |ToDatetime|.\n\n"
      ]
    },
    {
      "cell_type": "code",
      "execution_count": null,
      "metadata": {
        "collapsed": false
      },
      "outputs": [],
      "source": [
        "from skrub import ToDatetime\n\ndate = ToDatetime().fit_transform(X[\"date\"])\n\nprint(\"original dtype:\", X[\"date\"].dtypes, \"\\n\\nconverted dtype:\", date.dtypes)"
      ]
    },
    {
      "cell_type": "markdown",
      "metadata": {},
      "source": [
        "### Encoding the features\n\nWe now encode this column with a |DatetimeEncoder|.\n\nDuring the instantiation of the |DatetimeEncoder|, we specify that we want\nto extract the day of the week, and that we don't want to extract anything\nfiner than hours. This is because we don't want to extract minutes, seconds\nand lower units, as they are unimportant.\n\n"
      ]
    },
    {
      "cell_type": "code",
      "execution_count": null,
      "metadata": {
        "collapsed": false
      },
      "outputs": [],
      "source": [
        "from skrub import DatetimeEncoder\n\ndate_enc = DatetimeEncoder().fit_transform(date)\n\nprint(date, \"\\n\\nHas been encoded as:\\n\\n\", date_enc)"
      ]
    },
    {
      "cell_type": "markdown",
      "metadata": {},
      "source": [
        "We see that the encoder is working as expected: the column has\nbeen replaced by features extracting the month, day, hour, day of the\nweek and total seconds since Epoch information.\n\n"
      ]
    },
    {
      "cell_type": "markdown",
      "metadata": {},
      "source": [
        "### One-liner with the TableVectorizer\n\nAs mentioned earlier, the |TableVectorizer| makes use of the\n|DatetimeEncoder| by default. Note that ``X[\"date\"]`` is still\na string, but will be automatically transformed into a datetime in the\n|TableVectorizer|.\n\n"
      ]
    },
    {
      "cell_type": "code",
      "execution_count": null,
      "metadata": {
        "collapsed": false
      },
      "outputs": [],
      "source": [
        "from skrub import TableVectorizer\n\ntable_vec = TableVectorizer().fit(X)\npprint(table_vec.get_feature_names_out())"
      ]
    },
    {
      "cell_type": "markdown",
      "metadata": {},
      "source": [
        "If we want to customize the |DatetimeEncoder| inside the |TableVectorizer|,\nwe can replace its default parameter with a new, custom instance.\n\nHere, for example, we want it to extract the day of the week:\n\n"
      ]
    },
    {
      "cell_type": "code",
      "execution_count": null,
      "metadata": {
        "collapsed": false
      },
      "outputs": [],
      "source": [
        "# use the ``datetime`` argument to customize how datetimes are handled\ntable_vec_weekday = TableVectorizer(datetime=DatetimeEncoder(add_weekday=True)).fit(X)\npprint(table_vec_weekday.get_feature_names_out())"
      ]
    },
    {
      "cell_type": "markdown",
      "metadata": {},
      "source": [
        ".. note:\n    For more information on how to customize the |TableVectorizer|, see\n    `sphx_glr_auto_examples_01_dirty_categories.py`.\n\nInspecting the |TableVectorizer| further, we can check that the\n|DatetimeEncoder| is used on the correct column(s).\n\n"
      ]
    },
    {
      "cell_type": "code",
      "execution_count": null,
      "metadata": {
        "collapsed": false
      },
      "outputs": [],
      "source": [
        "pprint(table_vec_weekday.transformers_)"
      ]
    },
    {
      "cell_type": "markdown",
      "metadata": {},
      "source": [
        "## Prediction with datetime features\n\nFor prediction tasks, we recommend using the |TableVectorizer| inside a\npipeline, combined with a model that can use the features extracted by the\n|DatetimeEncoder|.\nHere we'll use a |HGBR| as our learner.\n\n\n"
      ]
    },
    {
      "cell_type": "code",
      "execution_count": null,
      "metadata": {
        "collapsed": false
      },
      "outputs": [],
      "source": [
        "from sklearn.ensemble import HistGradientBoostingRegressor\nfrom sklearn.pipeline import make_pipeline\n\npipeline = make_pipeline(table_vec, HistGradientBoostingRegressor())\npipeline_weekday = make_pipeline(table_vec_weekday, HistGradientBoostingRegressor())"
      ]
    },
    {
      "cell_type": "markdown",
      "metadata": {},
      "source": [
        "### Evaluating the model\n\nWhen using date and time features, we often care about predicting the future.\nIn this case, we have to be careful when evaluating our model, because\nthe standard settings of the cross-validation do not respect time ordering.\n\nInstead, we can use the |TimeSeriesSplit|,\nwhich ensures that the test set is always in the future.\n\n"
      ]
    },
    {
      "cell_type": "code",
      "execution_count": null,
      "metadata": {
        "collapsed": false
      },
      "outputs": [],
      "source": [
        "from sklearn.model_selection import TimeSeriesSplit, cross_val_score\n\ncross_val_score(\n    pipeline,\n    X,\n    y,\n    scoring=\"neg_mean_squared_error\",\n    cv=TimeSeriesSplit(n_splits=5),\n)"
      ]
    },
    {
      "cell_type": "markdown",
      "metadata": {},
      "source": [
        "### Plotting the prediction\n\nThe mean squared error is not obvious to interpret, so we visually\ncompare the prediction of our model with the actual values.\nTo do so, we will divide our dataset into a train and a test set:\nwe use 2011 data to predict what happened in 2012.\n\n"
      ]
    },
    {
      "cell_type": "code",
      "execution_count": null,
      "metadata": {
        "collapsed": false
      },
      "outputs": [],
      "source": [
        "import matplotlib.dates as mdates\nimport matplotlib.pyplot as plt\n\nmask_train = X[\"date\"] < \"2012-01-01\"\nX_train, X_test = X.loc[mask_train], X.loc[~mask_train]\ny_train, y_test = y.loc[mask_train], y.loc[~mask_train]\n\npipeline.fit(X_train, y_train)\ny_pred = pipeline.predict(X_test)\n\npipeline_weekday.fit(X_train, y_train)\ny_pred_weekday = pipeline_weekday.predict(X_test)\n\nfig, ax = plt.subplots(figsize=(12, 3))\nfig.suptitle(\"Predictions with tree models\")\nax.plot(\n    X.tail(96)[\"date\"],\n    y.tail(96).values,\n    \"x-\",\n    alpha=0.2,\n    label=\"Actual demand\",\n    color=\"black\",\n)\nax.plot(\n    X_test.tail(96)[\"date\"],\n    y_pred[-96:],\n    \"x-\",\n    label=\"DatetimeEncoder() + HGBR prediction\",\n)\nax.plot(\n    X_test.tail(96)[\"date\"],\n    y_pred_weekday[-96:],\n    \"x-\",\n    label=\"DatetimeEncoder(add_weekday=True) + HGBR prediction\",\n)\n\nax.tick_params(axis=\"x\", labelsize=7, labelrotation=75)\nax.xaxis.set_major_formatter(mdates.DateFormatter(\"%Y-%m-%d\"))\n_ = ax.legend()\nplt.tight_layout()\nplt.show()"
      ]
    },
    {
      "cell_type": "markdown",
      "metadata": {},
      "source": [
        "As we can see, adding the weekday yields better predictions on our test set.\n\n"
      ]
    },
    {
      "cell_type": "markdown",
      "metadata": {},
      "source": [
        "## Feature importances\n\nUsing the |DatetimeEncoder| allows us to better understand how the date\nimpacts the bike sharing demand. To this aim, we can compute the\nimportance of the features created by the |DatetimeEncoder|, using the\n:func:`~sklearn.inspection.permutation_importance` function, which\nbasically shuffles a feature and sees how the model changes its prediction.\n\n"
      ]
    },
    {
      "cell_type": "code",
      "execution_count": null,
      "metadata": {
        "collapsed": false
      },
      "outputs": [],
      "source": [
        "from sklearn.inspection import permutation_importance\n\n# In this case, we don't use a pipeline, because we want to compute the\n# importance of the features created by the DatetimeEncoder\nX_test_transform = pipeline[:-1].transform(X_test)\n\nresult = permutation_importance(\n    pipeline[-1], X_test_transform, y_test, n_repeats=10, random_state=0\n)\n\nresult = pd.DataFrame(\n    dict(\n        feature_names=X_test_transform.columns,\n        std=result.importances_std,\n        importances=result.importances_mean,\n    )\n).sort_values(\"importances\", ascending=True)\n\nresult.plot.barh(\n    y=\"importances\",\n    x=\"feature_names\",\n    title=\"Feature Importances\",\n    xerr=\"std\",\n    figsize=(12, 9),\n)\nplt.tight_layout()\nplt.show()"
      ]
    },
    {
      "cell_type": "markdown",
      "metadata": {},
      "source": [
        "We can see that the hour of the day, the temperature and the humidity\nare the most important features, which seems reasonable.\n\n## Conclusion\n\nIn this example, we saw how to use the |DatetimeEncoder| to create\nfeatures from a datetime column.\nAlso check out the |TableVectorizer|, which automatically recognizes\nand transforms datetime columns by default.\n\n"
      ]
    }
  ],
  "metadata": {
    "kernelspec": {
      "display_name": "Python 3",
      "language": "python",
      "name": "python3"
    },
    "language_info": {
      "codemirror_mode": {
        "name": "ipython",
        "version": 3
      },
      "file_extension": ".py",
      "mimetype": "text/x-python",
      "name": "python",
      "nbconvert_exporter": "python",
      "pygments_lexer": "ipython3",
      "version": "3.12.8"
    }
  },
  "nbformat": 4,
  "nbformat_minor": 0
}