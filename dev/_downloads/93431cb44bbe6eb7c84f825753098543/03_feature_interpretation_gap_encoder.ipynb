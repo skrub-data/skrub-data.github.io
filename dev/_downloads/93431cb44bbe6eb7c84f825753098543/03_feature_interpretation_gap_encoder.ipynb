{
  "cells": [
    {
      "cell_type": "code",
      "execution_count": null,
      "metadata": {
        "collapsed": false
      },
      "outputs": [],
      "source": [
        "%matplotlib inline"
      ]
    },
    {
      "cell_type": "markdown",
      "metadata": {},
      "source": [
        "\n# Feature interpretation with the GapEncoder\n\nWe illustrate here how categorical encodings obtained with the GapEncoder\ncan be interpreted in terms of latent topics. We use as example the\n[employee salaries](https://catalog.data.gov/dataset/employee-salaries-2016)\ndataset, and encode the column *Employee Position Title*, that contains dirty\ncategorical data.\n"
      ]
    },
    {
      "cell_type": "markdown",
      "metadata": {},
      "source": [
        "## Data Importing\n\nWe first get the dataset:\n\n"
      ]
    },
    {
      "cell_type": "code",
      "execution_count": null,
      "metadata": {
        "collapsed": false
      },
      "outputs": [],
      "source": [
        "from dirty_cat.datasets import fetch_employee_salaries\nemployee_salaries = fetch_employee_salaries()\nprint(employee_salaries.description)"
      ]
    },
    {
      "cell_type": "markdown",
      "metadata": {},
      "source": [
        "Now, we retrieve the dirty column to encode:\n\n"
      ]
    },
    {
      "cell_type": "code",
      "execution_count": null,
      "metadata": {
        "collapsed": false
      },
      "outputs": [],
      "source": [
        "dirty_column = 'employee_position_title'\nX_dirty = employee_salaries.X[[dirty_column]]\nprint(X_dirty.head(), end='\\n\\n')\nprint(f'Number of dirty entries = {len(X_dirty)}')"
      ]
    },
    {
      "cell_type": "markdown",
      "metadata": {},
      "source": [
        "## Encoding dirty job titles\n\nWe first create an instance of the GapEncoder with n_components=10:\n\n"
      ]
    },
    {
      "cell_type": "code",
      "execution_count": null,
      "metadata": {
        "collapsed": false
      },
      "outputs": [],
      "source": [
        "from dirty_cat import GapEncoder\n\nenc = GapEncoder(n_components=10, random_state=42)"
      ]
    },
    {
      "cell_type": "markdown",
      "metadata": {},
      "source": [
        "Then we fit the model on the dirty categorical data and transform it to\nobtain encoded vectors of size 10:\n\n"
      ]
    },
    {
      "cell_type": "code",
      "execution_count": null,
      "metadata": {
        "collapsed": false
      },
      "outputs": [],
      "source": [
        "X_enc = enc.fit_transform(X_dirty)\nprint(f'Shape of encoded vectors = {X_enc.shape}')"
      ]
    },
    {
      "cell_type": "markdown",
      "metadata": {},
      "source": [
        "## Interpreting encoded vectors\n\nThe GapEncoder can be understood as a continuous encoding on a set of latent\ntopics estimated from the data. The latent topics are built by\ncapturing combinations of substrings that frequently co-occur, and encoded\nvectors correspond to their activations.\nTo interpret these latent topics, we select for each of them a few labels\nfrom the input data with the highest activations.\nIn the example below we select 3 labels to summarize each topic.\n\n"
      ]
    },
    {
      "cell_type": "code",
      "execution_count": null,
      "metadata": {
        "collapsed": false
      },
      "outputs": [],
      "source": [
        "topic_labels = enc.get_feature_names_out(n_labels=3)\nfor k in range(len(topic_labels)):\n    labels = topic_labels[k]\n    print(f'Topic n\u00b0{k}: {labels}')"
      ]
    },
    {
      "cell_type": "markdown",
      "metadata": {},
      "source": [
        "As expected, topics capture labels that frequently co-occur. For instance,\nthe labels *firefighter*, *rescuer*, *rescue* appear together in\n*Firefighter/Rescuer III*, or *Fire/Rescue Lieutenant*.\n\nThis enables us to understand the encoding of different samples\n\n"
      ]
    },
    {
      "cell_type": "code",
      "execution_count": null,
      "metadata": {
        "collapsed": false
      },
      "outputs": [],
      "source": [
        "import matplotlib.pyplot as plt\n\nencoded_labels = enc.transform(X_dirty[:20])\nplt.figure(figsize=(8,10))\nplt.imshow(encoded_labels)\nplt.xlabel('Latent topics', size=12)\nplt.xticks(range(0, 10), labels=topic_labels, rotation=50, ha='right')\nplt.ylabel('Data entries', size=12)\nplt.yticks(range(0, 20), labels=X_dirty[:20].to_numpy().flatten())\nplt.colorbar().set_label(label='Topic activations', size=12)\nplt.tight_layout()\nplt.show()"
      ]
    },
    {
      "cell_type": "markdown",
      "metadata": {},
      "source": [
        "As we can see, each dirty category encodes on a small number of topics,\nThese can thus be reliably used to summarize each topic, which are in\neffect latent categories captured from the data.\n\n"
      ]
    }
  ],
  "metadata": {
    "kernelspec": {
      "display_name": "Python 3",
      "language": "python",
      "name": "python3"
    },
    "language_info": {
      "codemirror_mode": {
        "name": "ipython",
        "version": 3
      },
      "file_extension": ".py",
      "mimetype": "text/x-python",
      "name": "python",
      "nbconvert_exporter": "python",
      "pygments_lexer": "ipython3",
      "version": "3.8.13"
    }
  },
  "nbformat": 4,
  "nbformat_minor": 0
}