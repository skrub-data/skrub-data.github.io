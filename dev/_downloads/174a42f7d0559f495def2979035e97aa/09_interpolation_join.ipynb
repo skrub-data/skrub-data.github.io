{
  "cells": [
    {
      "cell_type": "markdown",
      "metadata": {},
      "source": [
        "\n# Interpolation join: infer missing rows when joining two tables\n\nWe illustrate the :class:`~skrub.InterpolationJoiner`, which is a type of join where values from the second table are inferred with machine-learning, rather than looked up in the table.\nIt is useful when exact matches are not available but we have rows that are close enough to make an educated guess -- in this sense it is a generalization of a :func:`~skrub.fuzzy_join`.\n\nThe :class:`~skrub.InterpolationJoiner` is therefore a transformer that adds the outputs of one or more machine-learning models as new columns to the table it operates on.\n\nIn this example we want our transformer to add weather data (temperature, rain, etc.) to the table it operates on.\nWe have a table containing information about commercial flights, and we want to add information about the weather at the time and place where each flight took off.\nThis could be useful to predict delays -- flights are often delayed by bad weather.\n\nWe have a table of weather data containing, at many weather stations, measurements such as temperature, rain and snow at many time points.\nUnfortunately, our weather stations are not inside the airports, and the measurements are not timed according to the flight schedule.\nTherefore, a simple equi-join would not yield any matching pair of rows from our two tables.\nInstead, we use the :class:`~skrub.InterpolationJoiner` to *infer* the temperature at the airport at take-off time.\nWe train supervised machine-learning models using the weather table, then query them with the times and locations in the flights table.\n"
      ]
    },
    {
      "cell_type": "markdown",
      "metadata": {},
      "source": [
        "## Load weather data\nWe join the table containing the measurements to the table that contains the weather stations\u2019 latitude and longitude.\nWe subsample these large tables for the example to run faster.\n\n"
      ]
    },
    {
      "cell_type": "code",
      "execution_count": null,
      "metadata": {
        "collapsed": false
      },
      "outputs": [],
      "source": [
        "from skrub.datasets import fetch_figshare\n\nweather = fetch_figshare(\"41771457\").X\nweather = weather.sample(100_000, random_state=0, ignore_index=True)\nstations = fetch_figshare(\"41710524\").X\nweather = stations.merge(weather, on=\"ID\")[\n    [\"LATITUDE\", \"LONGITUDE\", \"YEAR/MONTH/DAY\", \"TMAX\", \"PRCP\", \"SNOW\"]\n]"
      ]
    },
    {
      "cell_type": "markdown",
      "metadata": {},
      "source": [
        "The ``'TMAX'`` is in tenths of degree Celsius -- a ``'TMAX'`` of 297 means the maximum temperature that day was 29.7\u2103.\nWe convert it to degrees for readability\n\n"
      ]
    },
    {
      "cell_type": "code",
      "execution_count": null,
      "metadata": {
        "collapsed": false
      },
      "outputs": [],
      "source": [
        "weather[\"TMAX\"] /= 10"
      ]
    },
    {
      "cell_type": "markdown",
      "metadata": {},
      "source": [
        "## InterpolationJoiner with a ground truth: joining the weather table on itself\nAs a first simple example, we apply the :class:`~skrub.InterpolationJoiner` in a situation where the ground truth is known.\nWe split the weather table in half and join the second half on the first half.\nThus, the values from the right side table of the join are inferred, whereas the corresponding columns from the left side contain the ground truth and we can compare them.\n\n"
      ]
    },
    {
      "cell_type": "code",
      "execution_count": null,
      "metadata": {
        "collapsed": false
      },
      "outputs": [],
      "source": [
        "n_main = weather.shape[0] // 2\nmain_table = weather.iloc[:n_main]\nmain_table.head()"
      ]
    },
    {
      "cell_type": "code",
      "execution_count": null,
      "metadata": {
        "collapsed": false
      },
      "outputs": [],
      "source": [
        "aux_table = weather.iloc[n_main:]\naux_table.head()"
      ]
    },
    {
      "cell_type": "markdown",
      "metadata": {},
      "source": [
        "## Joining the tables\nNow we join our two tables and check how well the :class:`~skrub.InterpolationJoiner` can reconstruct the matching rows that are missing from the right side table.\nTo avoid clashes in the column names, we use the ``suffix`` parameter to append ``\"predicted\"`` to the right side table column names.\n\n"
      ]
    },
    {
      "cell_type": "code",
      "execution_count": null,
      "metadata": {
        "collapsed": false
      },
      "outputs": [],
      "source": [
        "from skrub import InterpolationJoiner\n\njoiner = InterpolationJoiner(\n    aux_table,\n    key=[\"LATITUDE\", \"LONGITUDE\", \"YEAR/MONTH/DAY\"],\n    suffix=\"_predicted\",\n).fit(main_table)\njoin = joiner.transform(main_table)\njoin.head()"
      ]
    },
    {
      "cell_type": "markdown",
      "metadata": {},
      "source": [
        "## Comparing the estimated values to the ground truth\n\n"
      ]
    },
    {
      "cell_type": "code",
      "execution_count": null,
      "metadata": {
        "collapsed": false
      },
      "outputs": [],
      "source": [
        "from matplotlib import pyplot as plt\n\njoin = join.sample(2000, random_state=0, ignore_index=True)\nfig, axes = plt.subplots(\n    3,\n    1,\n    figsize=(5, 9),\n    gridspec_kw={\"height_ratios\": [1.0, 0.5, 0.5]},\n    layout=\"compressed\",\n)\nfor ax, col in zip(axes.ravel(), [\"TMAX\", \"PRCP\", \"SNOW\"]):\n    ax.scatter(\n        join[col].values,\n        join[f\"{col}_predicted\"].values,\n        alpha=0.1,\n    )\n    ax.set_aspect(1)\n    ax.set_xlabel(f\"true {col}\")\n    ax.set_ylabel(f\"predicted {col}\")\nplt.show()"
      ]
    },
    {
      "cell_type": "markdown",
      "metadata": {},
      "source": [
        "We see that in this case the interpolation join works well for the temperature, but not precipitation nor snow.\nSo we will only add the temperature to our flights table.\n\n"
      ]
    },
    {
      "cell_type": "code",
      "execution_count": null,
      "metadata": {
        "collapsed": false
      },
      "outputs": [],
      "source": [
        "aux_table = aux_table.drop([\"PRCP\", \"SNOW\"], axis=1)"
      ]
    },
    {
      "cell_type": "markdown",
      "metadata": {},
      "source": [
        "## Loading the flights table\nWe load the flights table and join it to the airports table using the flights\u2019 ``'Origin'`` which refers to the departure airport\u2019s IATA code.\nWe use only a subset to speed up the example.\n\n"
      ]
    },
    {
      "cell_type": "code",
      "execution_count": null,
      "metadata": {
        "collapsed": false
      },
      "outputs": [],
      "source": [
        "flights = fetch_figshare(\"41771418\").X[[\"Year_Month_DayofMonth\", \"Origin\", \"ArrDelay\"]]\nflights = flights.sample(20_000, random_state=0, ignore_index=True)\nairports = fetch_figshare(\"41710257\").X[[\"iata\", \"airport\", \"state\", \"lat\", \"long\"]]\nflights = flights.merge(airports, left_on=\"Origin\", right_on=\"iata\")\n# printing the first row is more readable than the head() when we have many columns\nflights.iloc[0]"
      ]
    },
    {
      "cell_type": "markdown",
      "metadata": {},
      "source": [
        "## Joining the flights and weather data\nAs before, we initialize our join transformer with the weather table.\nThen, we use it to transform the flights table -- it adds a ``'TMAX'`` column containing the predicted maximum daily temperature.\n\n\n"
      ]
    },
    {
      "cell_type": "code",
      "execution_count": null,
      "metadata": {
        "collapsed": false
      },
      "outputs": [],
      "source": [
        "joiner = InterpolationJoiner(\n    aux_table,\n    main_key=[\"lat\", \"long\", \"Year_Month_DayofMonth\"],\n    aux_key=[\"LATITUDE\", \"LONGITUDE\", \"YEAR/MONTH/DAY\"],\n)\njoin = joiner.fit_transform(flights)\njoin.head()"
      ]
    },
    {
      "cell_type": "markdown",
      "metadata": {},
      "source": [
        "## Sanity checks\nThis time we do not have a ground truth for the temperatures.\nWe can perform a few basic sanity checks.\n\n"
      ]
    },
    {
      "cell_type": "code",
      "execution_count": null,
      "metadata": {
        "collapsed": false
      },
      "outputs": [],
      "source": [
        "state_temperatures = join.groupby(\"state\")[\"TMAX\"].mean().sort_values()"
      ]
    },
    {
      "cell_type": "markdown",
      "metadata": {},
      "source": [
        "States with the lowest average predicted temperatures: Alaska, Montana, North Dakota, Washington, Minnesota.\n\n"
      ]
    },
    {
      "cell_type": "code",
      "execution_count": null,
      "metadata": {
        "collapsed": false
      },
      "outputs": [],
      "source": [
        "state_temperatures.head()"
      ]
    },
    {
      "cell_type": "markdown",
      "metadata": {},
      "source": [
        "States with the highest predicted temperatures: Puerto Rico, Virgin Islands, Hawaii, Florida, Louisiana.\n\n"
      ]
    },
    {
      "cell_type": "code",
      "execution_count": null,
      "metadata": {
        "collapsed": false
      },
      "outputs": [],
      "source": [
        "state_temperatures.tail()"
      ]
    },
    {
      "cell_type": "markdown",
      "metadata": {},
      "source": [
        "Higher latitudes (farther up north) are colder -- the airports in this dataset are in the United States.\n\n"
      ]
    },
    {
      "cell_type": "code",
      "execution_count": null,
      "metadata": {
        "collapsed": false
      },
      "outputs": [],
      "source": [
        "fig, ax = plt.subplots()\nax.scatter(join[\"lat\"], join[\"TMAX\"])\nax.set_xlabel(\"Latitude (higher is farther north)\")\nax.set_ylabel(\"TMAX\")\nplt.show()"
      ]
    },
    {
      "cell_type": "markdown",
      "metadata": {},
      "source": [
        "Winter months are colder than spring -- in the north hemisphere January is colder than April\n\n\n"
      ]
    },
    {
      "cell_type": "code",
      "execution_count": null,
      "metadata": {
        "collapsed": false
      },
      "outputs": [],
      "source": [
        "import seaborn as sns\n\njoin[\"month\"] = join[\"Year_Month_DayofMonth\"].dt.strftime(\"%m %B\")\nplt.figure(layout=\"constrained\")\nsns.barplot(data=join.sort_values(by=\"month\"), y=\"month\", x=\"TMAX\")\nplt.show()"
      ]
    },
    {
      "cell_type": "markdown",
      "metadata": {},
      "source": [
        "Of course these checks do not guarantee that the inferred values in our ``join`` table\u2019s ``'TMAX'`` column are accurate.\nBut at least the :class:`~skrub.InterpolationJoiner` seems to have learned a few reasonable trends from its training table.\n\n"
      ]
    },
    {
      "cell_type": "markdown",
      "metadata": {},
      "source": [
        "## Conclusion\nWe have seen how to fit an :class:`~skrub.InterpolationJoiner` transformer: we give it a table (the weather data) and a set of matching columns (here date, latitude, longitude) and it learns to predict the other columns\u2019 values  (such as the max daily temperature).\nThen, it transforms tables by *predicting* values that a matching row would contain, rather than by searching for an actual match.\nIt is a generalization of the :func:`~skrub.fuzzy_join`, as :func:`~skrub.fuzzy_join` is the same thing as an :class:`~skrub.InterpolationJoiner` where the estimators are 1-nearest-neighbor estimators.\n\n"
      ]
    }
  ],
  "metadata": {
    "kernelspec": {
      "display_name": "Python 3",
      "language": "python",
      "name": "python3"
    },
    "language_info": {
      "codemirror_mode": {
        "name": "ipython",
        "version": 3
      },
      "file_extension": ".py",
      "mimetype": "text/x-python",
      "name": "python",
      "nbconvert_exporter": "python",
      "pygments_lexer": "ipython3",
      "version": "3.10.14"
    }
  },
  "nbformat": 4,
  "nbformat_minor": 0
}