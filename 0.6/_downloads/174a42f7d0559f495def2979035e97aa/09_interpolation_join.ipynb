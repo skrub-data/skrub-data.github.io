{
  "cells": [
    {
      "cell_type": "markdown",
      "metadata": {},
      "source": [
        "\n# Interpolation join: infer missing rows when joining two tables\n\nWe illustrate the :class:`~skrub.InterpolationJoiner`, which is a type of join where\nvalues from the second table are inferred with machine-learning, rather than looked up\nin the table. It is useful when exact matches are not available but we have rows that\nare close enough to make an educated guess -- in this sense it is a generalization of a\n:func:`~skrub.fuzzy_join`.\n\nThe :class:`~skrub.InterpolationJoiner` is therefore a transformer that adds the outputs\nof one or more machine-learning models as new columns to the table it operates on.\n\nIn this example we want our transformer to add weather data (temperature, rain, etc.) to\nthe table it operates on. We have a table containing information about commercial\nflights, and we want to add information about the weather at the time and place where\neach flight took off. This could be useful to predict delays -- flights are often\ndelayed by bad weather.\n\nWe have a table of weather data containing, at many weather stations, measurements such\nas temperature, rain and snow at many time points. Unfortunately, our weather stations\nare not inside the airports, and the measurements are not timed according to the flight\nschedule. Therefore, a simple equi-join would not yield any matching pair of rows from\nour two tables. Instead, we use the :class:`~skrub.InterpolationJoiner` to *infer* the\ntemperature at the airport at take-off time. We train supervised\nmachine-learning models using the weather table, then query them with the times\nand locations in the flights table.\n"
      ]
    },
    {
      "cell_type": "markdown",
      "metadata": {},
      "source": [
        "## Load weather data\nWe join the table containing the measurements to the table that contains the weather\nstations\u2019 latitude and longitude. We subsample these large tables for the example to\nrun faster.\n\n"
      ]
    },
    {
      "cell_type": "code",
      "execution_count": null,
      "metadata": {
        "collapsed": false
      },
      "outputs": [],
      "source": [
        "import pandas as pd\n\nfrom skrub.datasets import fetch_flight_delays\n\ndataset = fetch_flight_delays()\nweather = dataset.weather\nweather = weather.sample(100_000, random_state=0, ignore_index=True)\nstations = dataset.stations\nweather = stations.merge(weather, on=\"ID\")[\n    [\"LATITUDE\", \"LONGITUDE\", \"YEAR/MONTH/DAY\", \"TMAX\", \"PRCP\", \"SNOW\"]\n]\nweather[\"YEAR/MONTH/DAY\"] = pd.to_datetime(weather[\"YEAR/MONTH/DAY\"])"
      ]
    },
    {
      "cell_type": "markdown",
      "metadata": {},
      "source": [
        "The ``'TMAX'`` is in tenths of degree Celsius -- a ``'TMAX'`` of 297 means the maximum\ntemperature that day was 29.7\u2103. We convert it to degrees for readability\n\n"
      ]
    },
    {
      "cell_type": "code",
      "execution_count": null,
      "metadata": {
        "collapsed": false
      },
      "outputs": [],
      "source": [
        "weather[\"TMAX\"] /= 10"
      ]
    },
    {
      "cell_type": "markdown",
      "metadata": {},
      "source": [
        "## InterpolationJoiner with a ground truth: joining the weather table on itself\nAs a first simple example, we apply the :class:`~skrub.InterpolationJoiner` in a\nsituation where the ground truth is known. We split the weather table in half and join\nthe second half on the first half. Thus, the values from the right side table of the\njoin are inferred, whereas the corresponding columns from the left side contain the\nground truth and we can compare them.\n\n"
      ]
    },
    {
      "cell_type": "code",
      "execution_count": null,
      "metadata": {
        "collapsed": false
      },
      "outputs": [],
      "source": [
        "n_main = weather.shape[0] // 2\nmain_table = weather.iloc[:n_main]\nmain_table.head()"
      ]
    },
    {
      "cell_type": "code",
      "execution_count": null,
      "metadata": {
        "collapsed": false
      },
      "outputs": [],
      "source": [
        "aux_table = weather.iloc[n_main:]\naux_table.head()"
      ]
    },
    {
      "cell_type": "markdown",
      "metadata": {},
      "source": [
        "## Joining the tables\nNow we join our two tables and check how well the :class:`~skrub.InterpolationJoiner`\ncan reconstruct the matching rows that are missing from the right side table. To avoid\nclashes in the column names, we use the ``suffix`` parameter to append ``\"predicted\"``\nto the right side table column names.\n\n"
      ]
    },
    {
      "cell_type": "code",
      "execution_count": null,
      "metadata": {
        "collapsed": false
      },
      "outputs": [],
      "source": [
        "from skrub import InterpolationJoiner\n\njoiner = InterpolationJoiner(\n    aux_table,\n    key=[\"LATITUDE\", \"LONGITUDE\", \"YEAR/MONTH/DAY\"],\n    suffix=\"_predicted\",\n).fit(main_table)\njoin = joiner.transform(main_table)\njoin.head()"
      ]
    },
    {
      "cell_type": "markdown",
      "metadata": {},
      "source": [
        "## Comparing the estimated values to the ground truth\n\n"
      ]
    },
    {
      "cell_type": "code",
      "execution_count": null,
      "metadata": {
        "collapsed": false
      },
      "outputs": [],
      "source": [
        "from matplotlib import pyplot as plt\n\njoin = join.sample(2000, random_state=0, ignore_index=True)\nfig, axes = plt.subplots(\n    3,\n    1,\n    figsize=(5, 9),\n    gridspec_kw={\"height_ratios\": [1.0, 0.5, 0.5]},\n    layout=\"compressed\",\n)\nfor ax, col in zip(axes.ravel(), [\"TMAX\", \"PRCP\", \"SNOW\"]):\n    ax.scatter(\n        join[col].values,\n        join[f\"{col}_predicted\"].values,\n        alpha=0.1,\n    )\n    ax.set_aspect(1)\n    ax.set_xlabel(f\"true {col}\")\n    ax.set_ylabel(f\"predicted {col}\")\nplt.show()"
      ]
    },
    {
      "cell_type": "markdown",
      "metadata": {},
      "source": [
        "We see that in this case the interpolation join works well for the temperature, but\nnot precipitation nor snow. So we will only add the temperature to our flights table.\n\n"
      ]
    },
    {
      "cell_type": "code",
      "execution_count": null,
      "metadata": {
        "collapsed": false
      },
      "outputs": [],
      "source": [
        "aux_table = aux_table.drop([\"PRCP\", \"SNOW\"], axis=1)"
      ]
    },
    {
      "cell_type": "markdown",
      "metadata": {},
      "source": [
        "## Loading the flights table\nWe load the flights table and join it to the airports table using the flights\u2019\n``'Origin'`` which refers to the departure airport\u2019s IATA code. We use only a subset\nto speed up the example.\n\n"
      ]
    },
    {
      "cell_type": "code",
      "execution_count": null,
      "metadata": {
        "collapsed": false
      },
      "outputs": [],
      "source": [
        "flights = dataset.flights\nflights[\"Year_Month_DayofMonth\"] = pd.to_datetime(flights[\"Year_Month_DayofMonth\"])\nflights = flights[[\"Year_Month_DayofMonth\", \"Origin\", \"ArrDelay\"]]\nflights = flights.sample(20_000, random_state=0, ignore_index=True)\nairports = dataset.airports[[\"iata\", \"airport\", \"state\", \"lat\", \"long\"]]\nflights = flights.merge(airports, left_on=\"Origin\", right_on=\"iata\")\n# printing the first row is more readable than the head() when we have many columns\nflights.iloc[0]"
      ]
    },
    {
      "cell_type": "markdown",
      "metadata": {},
      "source": [
        "## Joining the flights and weather data\nAs before, we initialize our join transformer with the weather table. Then, we use it\nto transform the flights table -- it adds a ``'TMAX'`` column containing the predicted\nmaximum daily temperature.\n\n\n"
      ]
    },
    {
      "cell_type": "code",
      "execution_count": null,
      "metadata": {
        "collapsed": false
      },
      "outputs": [],
      "source": [
        "joiner = InterpolationJoiner(\n    aux_table,\n    main_key=[\"lat\", \"long\", \"Year_Month_DayofMonth\"],\n    aux_key=[\"LATITUDE\", \"LONGITUDE\", \"YEAR/MONTH/DAY\"],\n)\njoin = joiner.fit_transform(flights)\njoin.head()"
      ]
    },
    {
      "cell_type": "markdown",
      "metadata": {},
      "source": [
        "## Sanity checks\nThis time we do not have a ground truth for the temperatures.\nWe can perform a few basic sanity checks.\n\n"
      ]
    },
    {
      "cell_type": "code",
      "execution_count": null,
      "metadata": {
        "collapsed": false
      },
      "outputs": [],
      "source": [
        "state_temperatures = join.groupby(\"state\")[\"TMAX\"].mean().sort_values()"
      ]
    },
    {
      "cell_type": "markdown",
      "metadata": {},
      "source": [
        "States with the lowest average predicted temperatures: Alaska, Montana, North Dakota,\nWashington, Minnesota.\n\n"
      ]
    },
    {
      "cell_type": "code",
      "execution_count": null,
      "metadata": {
        "collapsed": false
      },
      "outputs": [],
      "source": [
        "state_temperatures.head()"
      ]
    },
    {
      "cell_type": "markdown",
      "metadata": {},
      "source": [
        "States with the highest predicted temperatures: Puerto Rico, Virgin Islands, Hawaii,\nFlorida, Louisiana.\n\n"
      ]
    },
    {
      "cell_type": "code",
      "execution_count": null,
      "metadata": {
        "collapsed": false
      },
      "outputs": [],
      "source": [
        "state_temperatures.tail()"
      ]
    },
    {
      "cell_type": "markdown",
      "metadata": {},
      "source": [
        "Higher latitudes (farther up north) are colder -- the airports in this dataset are in\nthe United States.\n\n"
      ]
    },
    {
      "cell_type": "code",
      "execution_count": null,
      "metadata": {
        "collapsed": false
      },
      "outputs": [],
      "source": [
        "fig, ax = plt.subplots()\nax.scatter(join[\"lat\"], join[\"TMAX\"])\nax.set_xlabel(\"Latitude (higher is farther north)\")\nax.set_ylabel(\"TMAX\")\nplt.show()"
      ]
    },
    {
      "cell_type": "markdown",
      "metadata": {},
      "source": [
        "Winter months are colder than spring -- in the north hemisphere January is colder than\nApril\n\n\n"
      ]
    },
    {
      "cell_type": "code",
      "execution_count": null,
      "metadata": {
        "collapsed": false
      },
      "outputs": [],
      "source": [
        "import seaborn as sns\n\njoin[\"month\"] = join[\"Year_Month_DayofMonth\"].dt.strftime(\"%m %B\")\nplt.figure(layout=\"constrained\")\nsns.barplot(data=join.sort_values(by=\"month\"), y=\"month\", x=\"TMAX\")\nplt.show()"
      ]
    },
    {
      "cell_type": "markdown",
      "metadata": {},
      "source": [
        "Of course these checks do not guarantee that the inferred values in our ``join``\ntable\u2019s ``'TMAX'`` column are accurate. But at least the\n:class:`~skrub.InterpolationJoiner` seems to have learned a few reasonable trends from\nits training table.\n\n"
      ]
    },
    {
      "cell_type": "markdown",
      "metadata": {},
      "source": [
        "## Conclusion\nWe have seen how to fit an :class:`~skrub.InterpolationJoiner` transformer: we give it\na table (the weather data) and a set of matching columns (here date, latitude,\nlongitude) and it learns to predict the other columns\u2019 values  (such as the max daily\ntemperature). Then, it transforms tables by *predicting* values that a matching row\nwould contain, rather than by searching for an actual match. It is a generalization of\nthe :func:`~skrub.fuzzy_join`, as :func:`~skrub.fuzzy_join` is the same thing as an\n:class:`~skrub.InterpolationJoiner` where the estimators are 1-nearest-neighbor\nestimators.\n\n"
      ]
    }
  ],
  "metadata": {
    "kernelspec": {
      "display_name": "Python 3",
      "language": "python",
      "name": "python3"
    },
    "language_info": {
      "codemirror_mode": {
        "name": "ipython",
        "version": 3
      },
      "file_extension": ".py",
      "mimetype": "text/x-python",
      "name": "python",
      "nbconvert_exporter": "python",
      "pygments_lexer": "ipython3",
      "version": "3.12.11"
    }
  },
  "nbformat": 4,
  "nbformat_minor": 0
}